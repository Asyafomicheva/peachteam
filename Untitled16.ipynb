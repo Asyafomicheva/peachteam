{
  "nbformat": 4,
  "nbformat_minor": 0,
  "metadata": {
    "colab": {
      "provenance": []
    },
    "kernelspec": {
      "name": "python3",
      "display_name": "Python 3"
    },
    "language_info": {
      "name": "python"
    }
  },
  "cells": [
    {
      "cell_type": "markdown",
      "source": [
        "## Установка нужной библиотеки"
      ],
      "metadata": {
        "id": "AHfcu-uXs1Nf"
      }
    },
    {
      "cell_type": "code",
      "source": [
        "pip install telebot"
      ],
      "metadata": {
        "colab": {
          "base_uri": "https://localhost:8080/"
        },
        "id": "VhEJsKRl_Wpi",
        "outputId": "d5720553-4399-4a10-a7bf-e45f68fac3ce"
      },
      "execution_count": 3,
      "outputs": [
        {
          "output_type": "stream",
          "name": "stdout",
          "text": [
            "Collecting telebot\n",
            "  Downloading telebot-0.0.5-py3-none-any.whl (4.8 kB)\n",
            "Collecting pyTelegramBotAPI (from telebot)\n",
            "  Downloading pyTelegramBotAPI-4.14.0.tar.gz (243 kB)\n",
            "\u001b[2K     \u001b[90m━━━━━━━━━━━━━━━━━━━━━━━━━━━━━━━━━━━━━━━━\u001b[0m \u001b[32m243.1/243.1 kB\u001b[0m \u001b[31m4.6 MB/s\u001b[0m eta \u001b[36m0:00:00\u001b[0m\n",
            "\u001b[?25h  Preparing metadata (setup.py) ... \u001b[?25l\u001b[?25hdone\n",
            "Requirement already satisfied: requests in /usr/local/lib/python3.10/dist-packages (from telebot) (2.31.0)\n",
            "Requirement already satisfied: charset-normalizer<4,>=2 in /usr/local/lib/python3.10/dist-packages (from requests->telebot) (3.3.2)\n",
            "Requirement already satisfied: idna<4,>=2.5 in /usr/local/lib/python3.10/dist-packages (from requests->telebot) (3.4)\n",
            "Requirement already satisfied: urllib3<3,>=1.21.1 in /usr/local/lib/python3.10/dist-packages (from requests->telebot) (2.0.7)\n",
            "Requirement already satisfied: certifi>=2017.4.17 in /usr/local/lib/python3.10/dist-packages (from requests->telebot) (2023.7.22)\n",
            "Building wheels for collected packages: pyTelegramBotAPI\n",
            "  Building wheel for pyTelegramBotAPI (setup.py) ... \u001b[?25l\u001b[?25hdone\n",
            "  Created wheel for pyTelegramBotAPI: filename=pyTelegramBotAPI-4.14.0-py3-none-any.whl size=215250 sha256=7efc0e246ed60b528e13ce0e91fee0f422a281fbcd69c4031d3db672b2deab8f\n",
            "  Stored in directory: /root/.cache/pip/wheels/25/51/2d/24b40a366c85c37928d5aa36ddf257e5a79fad25e1ecd11b2c\n",
            "Successfully built pyTelegramBotAPI\n",
            "Installing collected packages: pyTelegramBotAPI, telebot\n",
            "Successfully installed pyTelegramBotAPI-4.14.0 telebot-0.0.5\n"
          ]
        }
      ]
    },
    {
      "cell_type": "markdown",
      "source": [
        "## Необходимые импорты"
      ],
      "metadata": {
        "id": "mMQvARRbsyfI"
      }
    },
    {
      "cell_type": "code",
      "source": [
        "import json"
      ],
      "metadata": {
        "id": "qcww15Ds9z4i"
      },
      "execution_count": null,
      "outputs": []
    },
    {
      "cell_type": "code",
      "source": [
        "import pandas as pd\n",
        "import numpy as np"
      ],
      "metadata": {
        "id": "J6ZWQv9nG1xo"
      },
      "execution_count": null,
      "outputs": []
    },
    {
      "cell_type": "markdown",
      "source": [
        "## Тестовый джсон для проверки"
      ],
      "metadata": {
        "id": "P7wSgB8Bs7T1"
      }
    },
    {
      "cell_type": "code",
      "source": [
        "a = {'roman_khamrin': [333968801, 0], 'asyafomichewa': [872471903, 0]}"
      ],
      "metadata": {
        "id": "D4MOWbiH_Kym"
      },
      "execution_count": 38,
      "outputs": []
    },
    {
      "cell_type": "code",
      "source": [
        "with open('romchik.json', 'w') as f:\n",
        "    json.dump(a, f)"
      ],
      "metadata": {
        "id": "RRx7aE_wW-B4"
      },
      "execution_count": 39,
      "outputs": []
    },
    {
      "cell_type": "code",
      "source": [
        "with open('romchik.json', 'r') as f:\n",
        "    f = f.read()"
      ],
      "metadata": {
        "id": "BGlwhIXpXe6p"
      },
      "execution_count": 40,
      "outputs": []
    },
    {
      "cell_type": "code",
      "source": [
        "f"
      ],
      "metadata": {
        "colab": {
          "base_uri": "https://localhost:8080/",
          "height": 35
        },
        "id": "4vF4mzF9XoEL",
        "outputId": "1ce3b2c2-cb97-4952-9266-d41744617692"
      },
      "execution_count": 41,
      "outputs": [
        {
          "output_type": "execute_result",
          "data": {
            "text/plain": [
              "'{\"roman_khamrin\": [333968801, 0], \"asyafomichewa\": [872471903, 0]}'"
            ],
            "application/vnd.google.colaboratory.intrinsic+json": {
              "type": "string"
            }
          },
          "metadata": {},
          "execution_count": 41
        }
      ]
    },
    {
      "cell_type": "markdown",
      "source": [
        "## Чистка входного джсона"
      ],
      "metadata": {
        "id": "aibzHhf4tkEY"
      }
    },
    {
      "cell_type": "code",
      "source": [
        "with open('/content/guests_ns.json', 'r', encoding='UTF-8') as f:\n",
        "    file_read = f.read()\n",
        "    if file_read != '':\n",
        "        words_new = json.loads(file_read)\n",
        "    else:\n",
        "        words_new = dict()"
      ],
      "metadata": {
        "id": "4K8j0pdWtpo0"
      },
      "execution_count": 42,
      "outputs": []
    },
    {
      "cell_type": "code",
      "source": [
        "words_new.pop('fewlittledays')\n",
        "words_new.pop('nudnyak')\n",
        "words_new.pop('triple_pr_new')\n",
        "words_new.pop('apollinaria_romanovna')"
      ],
      "metadata": {
        "colab": {
          "base_uri": "https://localhost:8080/"
        },
        "id": "d4RC7Sjbtt_N",
        "outputId": "638cb41f-ac90-4e86-ea3b-ba0d307fe1d9"
      },
      "execution_count": 43,
      "outputs": [
        {
          "output_type": "execute_result",
          "data": {
            "text/plain": [
              "[742368079,\n",
              " 'Соколова',\n",
              " 'Полина',\n",
              " 'Романовна',\n",
              " 'НИУ ВШЭ',\n",
              " 'social_studies',\n",
              " 'friends',\n",
              " '2023-11-09T23:09:15+03:00']"
            ]
          },
          "metadata": {},
          "execution_count": 43
        }
      ]
    },
    {
      "cell_type": "code",
      "source": [
        "words_new = {i: [words_new[i][0], 0] for i in words_new}"
      ],
      "metadata": {
        "id": "pkLOP8AHuYVi"
      },
      "execution_count": 45,
      "outputs": []
    },
    {
      "cell_type": "code",
      "source": [
        "words_new.pop('roman_khamrin')\n",
        "words_new.pop('asyafomichewa')"
      ],
      "metadata": {
        "colab": {
          "base_uri": "https://localhost:8080/"
        },
        "id": "Zeyhjig0uage",
        "outputId": "4588dc53-38f8-45e0-bb7b-a310e55b374b"
      },
      "execution_count": 47,
      "outputs": [
        {
          "output_type": "execute_result",
          "data": {
            "text/plain": [
              "[872471903, 0]"
            ]
          },
          "metadata": {},
          "execution_count": 47
        }
      ]
    },
    {
      "cell_type": "code",
      "source": [
        "words_new['roman_khamrin'] =  [333968801, 0]\n",
        "words_new['asyafomichewa'] = [872471903, 0]"
      ],
      "metadata": {
        "id": "z2LjrAz6updh"
      },
      "execution_count": 48,
      "outputs": []
    },
    {
      "cell_type": "code",
      "source": [
        "with open('/content/guests_valid_ns.json', 'w', encoding='UTF-8') as f:\n",
        "    json.dump(words_new, f)"
      ],
      "metadata": {
        "id": "thVlxiOZuv1V"
      },
      "execution_count": 49,
      "outputs": []
    },
    {
      "cell_type": "markdown",
      "source": [
        "## МАРШРУТ ДО ТЦ"
      ],
      "metadata": {
        "id": "QLlJ5vfTtZ2H"
      }
    },
    {
      "cell_type": "code",
      "source": [
        "import telebot\n",
        "import json\n",
        "\n",
        "# Создаем экземпляр бота\n",
        "bot = telebot.TeleBot('6581825456:AAHyqtmbJ94Scr-nui_oIUHuGYCkXUO2y3M')\n",
        "\n",
        "# Путь к файлу с парами ключ-значение\n",
        "file_path = '/content/guests_valid_ns.json'\n",
        "\n",
        "try:\n",
        "    # Читаем файл с парами ключ-значение\n",
        "    with open(file_path, 'r+') as file:\n",
        "        data = json.load(file)\n",
        "\n",
        "        # Отправляем фото каждому пользователю с описанием\n",
        "        for user in data:\n",
        "            try:\n",
        "                # Отправляем фото пользователю с описанием\n",
        "                photo_path_1 = '/content/маршрут 1.jpg'  # Укажите путь к изображению\n",
        "                photo_path_2 = '/content/маршрут 2.jpg'  # Укажите путь к изображению\n",
        "                caption = '📥 Уважаемые коллеги, если кто-то пропустил схему места проведения корпоратива, дублируем её здесь.'\n",
        "                # bot.send_media_group(data[user][0], [open(photo_path_1, 'rb'), open(photo_path_2, 'rb')], caption)\n",
        "\n",
        "                bot.send_media_group(data[user][0],\n",
        "                                     [telebot.types.InputMediaPhoto(open(photo_path_1, 'rb')),\n",
        "                                     telebot.types.InputMediaPhoto(open(photo_path_2, 'rb'))],\n",
        "                                     caption)\n",
        "                # Обновляем значение в словаре\n",
        "                data[user][1] = 1\n",
        "            except Exception as e:\n",
        "                print(f'Ошибка {e} пользователь {data[user][0]}')\n",
        "\n",
        "        # Перемещаем указатель файла в начало\n",
        "        file.seek(0)\n",
        "\n",
        "        # Записываем измененные данные обратно в файл\n",
        "        json.dump(data, file)\n",
        "\n",
        "except FileNotFoundError:\n",
        "    print('Файл не найден.')\n",
        "except json.JSONDecodeError as e:\n",
        "    print(e)\n",
        "\n",
        "# Запускаем бота\n",
        "bot.polling()"
      ],
      "metadata": {
        "id": "PQ3myvEsWoys"
      },
      "execution_count": 30,
      "outputs": []
    },
    {
      "cell_type": "code",
      "source": [
        "import telebot\n",
        "import json\n",
        "\n",
        "# Создаем экземпляр бота\n",
        "bot = telebot.TeleBot('6581825456:AAHyqtmbJ94Scr-nui_oIUHuGYCkXUO2y3M')\n",
        "\n",
        "# Путь к файлу с парами ключ-значение\n",
        "file_path = '/content/guests_valid_ns.json'\n",
        "\n",
        "try:\n",
        "    # Читаем файл с парами ключ-значение\n",
        "    with open(file_path, 'r+') as file:\n",
        "        data = json.load(file)\n",
        "\n",
        "        # Отправляем фото каждому пользователю с описанием\n",
        "        for user in data:\n",
        "            try:\n",
        "                parse_mode = 'Markdown'\n",
        "                text = '📥 Уважаемые коллеги, если кто-то пропустил схему места проведения корпоратива, дублируем её здесь.'\n",
        "                bot.send_message(data[user][0], text, {parse_mode})\n",
        "\n",
        "                # Обновляем значение в словаре\n",
        "                data[user][1] = 1\n",
        "            except Exception as e:\n",
        "                print(f'Ошибка {e} пользователь {data[user][0]}')\n",
        "\n",
        "        # Перемещаем указатель файла в начало\n",
        "        file.seek(0)\n",
        "\n",
        "        # Записываем измененные данные обратно в файл\n",
        "        json.dump(data, file)\n",
        "\n",
        "except FileNotFoundError:\n",
        "    print('Файл не найден.')\n",
        "except json.JSONDecodeError as e:\n",
        "    print(e)\n",
        "\n",
        "# Запускаем бота\n",
        "bot.polling()"
      ],
      "metadata": {
        "id": "JQ8zs7bPqftI"
      },
      "execution_count": 31,
      "outputs": []
    },
    {
      "cell_type": "markdown",
      "source": [
        "## ВИДЕО КАК ДОЙТИ В ТЦ ДО ЛОФТА"
      ],
      "metadata": {
        "id": "FbPBvkMqtc1c"
      }
    },
    {
      "cell_type": "code",
      "source": [
        "import telebot\n",
        "import json\n",
        "\n",
        "# Создаем экземпляр бота\n",
        "bot = telebot.TeleBot('6581825456:AAHyqtmbJ94Scr-nui_oIUHuGYCkXUO2y3M')\n",
        "\n",
        "# Путь к файлу с парами ключ-значение\n",
        "file_path = '/content/guests_valid_ns.json'\n",
        "\n",
        "try:\n",
        "    # Читаем файл с парами ключ-значение\n",
        "    with open(file_path, 'r+') as file:\n",
        "        data = json.load(file)\n",
        "\n",
        "        # Отправляем фото каждому пользователю с описанием\n",
        "        for user in data:\n",
        "            try:\n",
        "                # Отправляем фото пользователю с описанием\n",
        "                video_path = '/content/турция.mp4'  # Укажите путь к изображению\n",
        "                caption = '📤 Коллеги, как и обещали, отправляем вам видео-маршрут до места проведения корпоратива.'\n",
        "                bot.send_video(data[user][0], open(video_path, 'rb'), caption=caption)\n",
        "\n",
        "                # Обновляем значение в словаре\n",
        "                data[user][1] = 1\n",
        "            except Exception as e:\n",
        "                print(f'Ошибка {e} пользователь {data[user][0]}')\n",
        "\n",
        "        # Перемещаем указатель файла в начало\n",
        "        file.seek(0)\n",
        "\n",
        "        # Записываем измененные данные обратно в файл\n",
        "        json.dump(data, file)\n",
        "\n",
        "except FileNotFoundError:\n",
        "    print('Файл не найден.')\n",
        "except json.JSONDecodeError as e:\n",
        "    print(e)\n",
        "\n",
        "# Запускаем бота\n",
        "bot.polling()"
      ],
      "metadata": {
        "colab": {
          "base_uri": "https://localhost:8080/"
        },
        "id": "jj4t7BfBXpMS",
        "outputId": "7ad0e584-28ab-4994-bbf7-99770de645fe"
      },
      "execution_count": 29,
      "outputs": [
        {
          "output_type": "stream",
          "name": "stderr",
          "text": [
            "2023-11-25 13:33:44,221 (__init__.py:1083 MainThread) ERROR - TeleBot: \"Threaded polling exception: A request to the Telegram API was unsuccessful. Error code: 409. Description: Conflict: terminated by other getUpdates request; make sure that only one bot instance is running\"\n",
            "ERROR:TeleBot:Threaded polling exception: A request to the Telegram API was unsuccessful. Error code: 409. Description: Conflict: terminated by other getUpdates request; make sure that only one bot instance is running\n",
            "2023-11-25 13:33:44,225 (__init__.py:1085 MainThread) ERROR - TeleBot: \"Exception traceback:\n",
            "Traceback (most recent call last):\n",
            "  File \"/usr/local/lib/python3.10/dist-packages/telebot/__init__.py\", line 1073, in __threaded_polling\n",
            "    polling_thread.raise_exceptions()\n",
            "  File \"/usr/local/lib/python3.10/dist-packages/telebot/util.py\", line 108, in raise_exceptions\n",
            "    raise self.exception_info\n",
            "  File \"/usr/local/lib/python3.10/dist-packages/telebot/util.py\", line 90, in run\n",
            "    task(*args, **kwargs)\n",
            "  File \"/usr/local/lib/python3.10/dist-packages/telebot/__init__.py\", line 649, in __retrieve_updates\n",
            "    updates = self.get_updates(offset=(self.last_update_id + 1),\n",
            "  File \"/usr/local/lib/python3.10/dist-packages/telebot/__init__.py\", line 623, in get_updates\n",
            "    json_updates = apihelper.get_updates(self.token, offset, limit, timeout, allowed_updates, long_polling_timeout)\n",
            "  File \"/usr/local/lib/python3.10/dist-packages/telebot/apihelper.py\", line 321, in get_updates\n",
            "    return _make_request(token, method_url, params=payload)\n",
            "  File \"/usr/local/lib/python3.10/dist-packages/telebot/apihelper.py\", line 162, in _make_request\n",
            "    json_result = _check_result(method_name, result)\n",
            "  File \"/usr/local/lib/python3.10/dist-packages/telebot/apihelper.py\", line 189, in _check_result\n",
            "    raise ApiTelegramException(method_name, result, result_json)\n",
            "telebot.apihelper.ApiTelegramException: A request to the Telegram API was unsuccessful. Error code: 409. Description: Conflict: terminated by other getUpdates request; make sure that only one bot instance is running\n",
            "\"\n",
            "ERROR:TeleBot:Exception traceback:\n",
            "Traceback (most recent call last):\n",
            "  File \"/usr/local/lib/python3.10/dist-packages/telebot/__init__.py\", line 1073, in __threaded_polling\n",
            "    polling_thread.raise_exceptions()\n",
            "  File \"/usr/local/lib/python3.10/dist-packages/telebot/util.py\", line 108, in raise_exceptions\n",
            "    raise self.exception_info\n",
            "  File \"/usr/local/lib/python3.10/dist-packages/telebot/util.py\", line 90, in run\n",
            "    task(*args, **kwargs)\n",
            "  File \"/usr/local/lib/python3.10/dist-packages/telebot/__init__.py\", line 649, in __retrieve_updates\n",
            "    updates = self.get_updates(offset=(self.last_update_id + 1),\n",
            "  File \"/usr/local/lib/python3.10/dist-packages/telebot/__init__.py\", line 623, in get_updates\n",
            "    json_updates = apihelper.get_updates(self.token, offset, limit, timeout, allowed_updates, long_polling_timeout)\n",
            "  File \"/usr/local/lib/python3.10/dist-packages/telebot/apihelper.py\", line 321, in get_updates\n",
            "    return _make_request(token, method_url, params=payload)\n",
            "  File \"/usr/local/lib/python3.10/dist-packages/telebot/apihelper.py\", line 162, in _make_request\n",
            "    json_result = _check_result(method_name, result)\n",
            "  File \"/usr/local/lib/python3.10/dist-packages/telebot/apihelper.py\", line 189, in _check_result\n",
            "    raise ApiTelegramException(method_name, result, result_json)\n",
            "telebot.apihelper.ApiTelegramException: A request to the Telegram API was unsuccessful. Error code: 409. Description: Conflict: terminated by other getUpdates request; make sure that only one bot instance is running\n",
            "\n"
          ]
        }
      ]
    },
    {
      "cell_type": "markdown",
      "source": [
        "## РАСПИСАНИЕ ТОЧЕК"
      ],
      "metadata": {
        "id": "qcNRthw1tfg-"
      }
    },
    {
      "cell_type": "code",
      "source": [
        "import telebot\n",
        "import json\n",
        "\n",
        "# Создаем экземпляр бота\n",
        "bot = telebot.TeleBot('6581825456:AAHyqtmbJ94Scr-nui_oIUHuGYCkXUO2y3M')\n",
        "\n",
        "# Путь к файлу с парами ключ-значение\n",
        "file_path = '/content/guests_valid_ns.json'\n",
        "\n",
        "try:\n",
        "    # Читаем файл с парами ключ-значение\n",
        "    with open(file_path, 'r+') as file:\n",
        "        data = json.load(file)\n",
        "\n",
        "        # Отправляем фото каждому пользователю с описанием\n",
        "        for user in data:\n",
        "            try:\n",
        "                # Отправляем фото пользователю с описанием\n",
        "                photo_path = '/content/schedule-photos.jpg'  # Укажите путь к изображению\n",
        "                caption = '📤 Коллеги, отправляем вам расписание точек, которые будут работать на мероприятии.\\n\\nНастоятельно рекомендуем вам ознакомится с ним, чтобы не пропустить все доступные активности на нашем корпоративе. '\n",
        "                bot.send_photo(data[user][0], open(photo_path, 'rb'), caption)\n",
        "\n",
        "                # Обновляем значение в словаре\n",
        "                data[user][1] = 1\n",
        "            except Exception as e:\n",
        "                print(f'Ошибка {e} пользователь {data[user][0]}')\n",
        "\n",
        "        # Перемещаем указатель файла в начало\n",
        "        file.seek(0)\n",
        "\n",
        "        # Записываем измененные данные обратно в файл\n",
        "        json.dump(data, file)\n",
        "\n",
        "except FileNotFoundError:\n",
        "    print('Файл не найден.')\n",
        "except json.JSONDecodeError as e:\n",
        "    print(e)\n",
        "\n",
        "# Запускаем бота\n",
        "bot.polling()"
      ],
      "metadata": {
        "id": "-zkm3ikFCMUm"
      },
      "execution_count": 32,
      "outputs": []
    },
    {
      "cell_type": "code",
      "source": [],
      "metadata": {
        "id": "UVTPKHpcdhF3"
      },
      "execution_count": null,
      "outputs": []
    }
  ]
}